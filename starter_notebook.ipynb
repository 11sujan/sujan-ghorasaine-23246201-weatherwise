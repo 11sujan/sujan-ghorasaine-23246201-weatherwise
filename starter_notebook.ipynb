{
  "cells": [
    {
      "cell_type": "markdown",
      "metadata": {
        "id": "view-in-github",
        "colab_type": "text"
      },
      "source": [
        "<a href=\"https://colab.research.google.com/github/11sujan/sujan-ghorasaine-23246201-weatherwise/blob/main/starter_notebook.ipynb\" target=\"_parent\"><img src=\"https://colab.research.google.com/assets/colab-badge.svg\" alt=\"Open In Colab\"/></a>"
      ]
    },
    {
      "cell_type": "markdown",
      "id": "72e78a05",
      "metadata": {
        "id": "72e78a05"
      },
      "source": [
        "# 🌦️ WeatherWise – Starter Notebook\n",
        "\n",
        "Welcome to your **WeatherWise** project notebook! This scaffold is designed to help you build your weather advisor app using Python, visualisations, and AI-enhanced development.\n",
        "\n",
        "---\n",
        "\n",
        "📄 **Full Assignment Specification**  \n",
        "See [`ASSIGNMENT.md`](ASSIGNMENT.md) or check the LMS for full details.\n",
        "\n",
        "📝 **Quick Refresher**  \n",
        "A one-page summary is available in [`resources/assignment-summary.md`](resources/assignment-summary.md).\n",
        "\n",
        "---\n",
        "\n",
        "🧠 **This Notebook Structure is Optional**  \n",
        "You’re encouraged to reorganise, rename sections, or remove scaffold cells if you prefer — as long as your final version meets the requirements.\n",
        "\n",
        "✅ You may delete this note before submission.\n",
        "\n"
      ]
    },
    {
      "cell_type": "markdown",
      "id": "fa8c7f6c",
      "metadata": {
        "id": "fa8c7f6c"
      },
      "source": [
        "## 🧰 Setup and Imports\n",
        "\n",
        "This section imports commonly used packages and installs any additional tools used in the project.\n",
        "\n",
        "- You may not need all of these unless you're using specific features (e.g. visualisations, advanced prompting).\n",
        "- The notebook assumes the following packages are **pre-installed** in the provided environment or installable via pip:\n",
        "  - `requests`, `matplotlib`, `pyinputplus`\n",
        "  - `fetch-my-weather` (for accessing weather data easily)\n",
        "  - `hands-on-ai` (for AI logging, comparisons, or prompting tools)\n",
        "\n",
        "If you're running this notebook in **Google Colab**, uncomment the following lines to install the required packages.\n"
      ]
    },
    {
      "cell_type": "code",
      "execution_count": 26,
      "id": "70c3f3f1",
      "metadata": {
        "id": "70c3f3f1",
        "colab": {
          "base_uri": "https://localhost:8080/"
        },
        "outputId": "5be6f654-c866-4c6d-ec92-f1c2a8190fe4"
      },
      "outputs": [
        {
          "output_type": "stream",
          "name": "stdout",
          "text": [
            "Requirement already satisfied: fetch-my-weather in /usr/local/lib/python3.12/dist-packages (0.4.0)\n",
            "Requirement already satisfied: requests>=2.25.0 in /usr/local/lib/python3.12/dist-packages (from fetch-my-weather) (2.32.4)\n",
            "Requirement already satisfied: pydantic>=1.8.0 in /usr/local/lib/python3.12/dist-packages (from fetch-my-weather) (2.11.9)\n",
            "Requirement already satisfied: annotated-types>=0.6.0 in /usr/local/lib/python3.12/dist-packages (from pydantic>=1.8.0->fetch-my-weather) (0.7.0)\n",
            "Requirement already satisfied: pydantic-core==2.33.2 in /usr/local/lib/python3.12/dist-packages (from pydantic>=1.8.0->fetch-my-weather) (2.33.2)\n",
            "Requirement already satisfied: typing-extensions>=4.12.2 in /usr/local/lib/python3.12/dist-packages (from pydantic>=1.8.0->fetch-my-weather) (4.15.0)\n",
            "Requirement already satisfied: typing-inspection>=0.4.0 in /usr/local/lib/python3.12/dist-packages (from pydantic>=1.8.0->fetch-my-weather) (0.4.1)\n",
            "Requirement already satisfied: charset_normalizer<4,>=2 in /usr/local/lib/python3.12/dist-packages (from requests>=2.25.0->fetch-my-weather) (3.4.3)\n",
            "Requirement already satisfied: idna<4,>=2.5 in /usr/local/lib/python3.12/dist-packages (from requests>=2.25.0->fetch-my-weather) (3.10)\n",
            "Requirement already satisfied: urllib3<3,>=1.21.1 in /usr/local/lib/python3.12/dist-packages (from requests>=2.25.0->fetch-my-weather) (2.5.0)\n",
            "Requirement already satisfied: certifi>=2017.4.17 in /usr/local/lib/python3.12/dist-packages (from requests>=2.25.0->fetch-my-weather) (2025.8.3)\n",
            "Requirement already satisfied: hands-on-ai in /usr/local/lib/python3.12/dist-packages (0.2.1)\n",
            "Requirement already satisfied: requests in /usr/local/lib/python3.12/dist-packages (from hands-on-ai) (2.32.4)\n",
            "Requirement already satisfied: typer in /usr/local/lib/python3.12/dist-packages (from hands-on-ai) (0.17.4)\n",
            "Requirement already satisfied: python-fasthtml in /usr/local/lib/python3.12/dist-packages (from hands-on-ai) (0.12.29)\n",
            "Requirement already satisfied: python-docx in /usr/local/lib/python3.12/dist-packages (from hands-on-ai) (1.2.0)\n",
            "Requirement already satisfied: pymupdf in /usr/local/lib/python3.12/dist-packages (from hands-on-ai) (1.26.4)\n",
            "Requirement already satisfied: scikit-learn in /usr/local/lib/python3.12/dist-packages (from hands-on-ai) (1.6.1)\n",
            "Requirement already satisfied: numpy in /usr/local/lib/python3.12/dist-packages (from hands-on-ai) (2.0.2)\n",
            "Requirement already satisfied: instructor>=1.11.0 in /usr/local/lib/python3.12/dist-packages (from hands-on-ai) (1.11.3)\n",
            "Requirement already satisfied: pydantic>=2.0 in /usr/local/lib/python3.12/dist-packages (from hands-on-ai) (2.11.9)\n",
            "Requirement already satisfied: aiohttp<4.0.0,>=3.9.1 in /usr/local/lib/python3.12/dist-packages (from instructor>=1.11.0->hands-on-ai) (3.12.15)\n",
            "Requirement already satisfied: diskcache>=5.6.3 in /usr/local/lib/python3.12/dist-packages (from instructor>=1.11.0->hands-on-ai) (5.6.3)\n",
            "Requirement already satisfied: docstring-parser<1.0,>=0.16 in /usr/local/lib/python3.12/dist-packages (from instructor>=1.11.0->hands-on-ai) (0.17.0)\n",
            "Requirement already satisfied: jinja2<4.0.0,>=3.1.4 in /usr/local/lib/python3.12/dist-packages (from instructor>=1.11.0->hands-on-ai) (3.1.6)\n",
            "Requirement already satisfied: jiter<0.11,>=0.6.1 in /usr/local/lib/python3.12/dist-packages (from instructor>=1.11.0->hands-on-ai) (0.10.0)\n",
            "Requirement already satisfied: openai<2.0.0,>=1.70.0 in /usr/local/lib/python3.12/dist-packages (from instructor>=1.11.0->hands-on-ai) (1.108.0)\n",
            "Requirement already satisfied: pydantic-core<3.0.0,>=2.18.0 in /usr/local/lib/python3.12/dist-packages (from instructor>=1.11.0->hands-on-ai) (2.33.2)\n",
            "Requirement already satisfied: rich<15.0.0,>=13.7.0 in /usr/local/lib/python3.12/dist-packages (from instructor>=1.11.0->hands-on-ai) (13.9.4)\n",
            "Requirement already satisfied: tenacity<10.0.0,>=8.2.3 in /usr/local/lib/python3.12/dist-packages (from instructor>=1.11.0->hands-on-ai) (8.5.0)\n",
            "Requirement already satisfied: annotated-types>=0.6.0 in /usr/local/lib/python3.12/dist-packages (from pydantic>=2.0->hands-on-ai) (0.7.0)\n",
            "Requirement already satisfied: typing-extensions>=4.12.2 in /usr/local/lib/python3.12/dist-packages (from pydantic>=2.0->hands-on-ai) (4.15.0)\n",
            "Requirement already satisfied: typing-inspection>=0.4.0 in /usr/local/lib/python3.12/dist-packages (from pydantic>=2.0->hands-on-ai) (0.4.1)\n",
            "Requirement already satisfied: charset_normalizer<4,>=2 in /usr/local/lib/python3.12/dist-packages (from requests->hands-on-ai) (3.4.3)\n",
            "Requirement already satisfied: idna<4,>=2.5 in /usr/local/lib/python3.12/dist-packages (from requests->hands-on-ai) (3.10)\n",
            "Requirement already satisfied: urllib3<3,>=1.21.1 in /usr/local/lib/python3.12/dist-packages (from requests->hands-on-ai) (2.5.0)\n",
            "Requirement already satisfied: certifi>=2017.4.17 in /usr/local/lib/python3.12/dist-packages (from requests->hands-on-ai) (2025.8.3)\n",
            "Requirement already satisfied: click>=8.0.0 in /usr/local/lib/python3.12/dist-packages (from typer->hands-on-ai) (8.2.1)\n",
            "Requirement already satisfied: shellingham>=1.3.0 in /usr/local/lib/python3.12/dist-packages (from typer->hands-on-ai) (1.5.4)\n",
            "Requirement already satisfied: lxml>=3.1.0 in /usr/local/lib/python3.12/dist-packages (from python-docx->hands-on-ai) (5.4.0)\n",
            "Requirement already satisfied: fastcore>=1.8.1 in /usr/local/lib/python3.12/dist-packages (from python-fasthtml->hands-on-ai) (1.8.8)\n",
            "Requirement already satisfied: python-dateutil in /usr/local/lib/python3.12/dist-packages (from python-fasthtml->hands-on-ai) (2.9.0.post0)\n",
            "Requirement already satisfied: starlette>0.33 in /usr/local/lib/python3.12/dist-packages (from python-fasthtml->hands-on-ai) (0.48.0)\n",
            "Requirement already satisfied: oauthlib in /usr/local/lib/python3.12/dist-packages (from python-fasthtml->hands-on-ai) (3.3.1)\n",
            "Requirement already satisfied: itsdangerous in /usr/local/lib/python3.12/dist-packages (from python-fasthtml->hands-on-ai) (2.2.0)\n",
            "Requirement already satisfied: uvicorn>=0.30 in /usr/local/lib/python3.12/dist-packages (from uvicorn[standard]>=0.30->python-fasthtml->hands-on-ai) (0.35.0)\n",
            "Requirement already satisfied: httpx in /usr/local/lib/python3.12/dist-packages (from python-fasthtml->hands-on-ai) (0.28.1)\n",
            "Requirement already satisfied: fastlite>=0.1.1 in /usr/local/lib/python3.12/dist-packages (from python-fasthtml->hands-on-ai) (0.2.1)\n",
            "Requirement already satisfied: python-multipart in /usr/local/lib/python3.12/dist-packages (from python-fasthtml->hands-on-ai) (0.0.20)\n",
            "Requirement already satisfied: beautifulsoup4 in /usr/local/lib/python3.12/dist-packages (from python-fasthtml->hands-on-ai) (4.13.5)\n",
            "Requirement already satisfied: scipy>=1.6.0 in /usr/local/lib/python3.12/dist-packages (from scikit-learn->hands-on-ai) (1.16.2)\n",
            "Requirement already satisfied: joblib>=1.2.0 in /usr/local/lib/python3.12/dist-packages (from scikit-learn->hands-on-ai) (1.5.2)\n",
            "Requirement already satisfied: threadpoolctl>=3.1.0 in /usr/local/lib/python3.12/dist-packages (from scikit-learn->hands-on-ai) (3.6.0)\n",
            "Requirement already satisfied: aiohappyeyeballs>=2.5.0 in /usr/local/lib/python3.12/dist-packages (from aiohttp<4.0.0,>=3.9.1->instructor>=1.11.0->hands-on-ai) (2.6.1)\n",
            "Requirement already satisfied: aiosignal>=1.4.0 in /usr/local/lib/python3.12/dist-packages (from aiohttp<4.0.0,>=3.9.1->instructor>=1.11.0->hands-on-ai) (1.4.0)\n",
            "Requirement already satisfied: attrs>=17.3.0 in /usr/local/lib/python3.12/dist-packages (from aiohttp<4.0.0,>=3.9.1->instructor>=1.11.0->hands-on-ai) (25.3.0)\n",
            "Requirement already satisfied: frozenlist>=1.1.1 in /usr/local/lib/python3.12/dist-packages (from aiohttp<4.0.0,>=3.9.1->instructor>=1.11.0->hands-on-ai) (1.7.0)\n",
            "Requirement already satisfied: multidict<7.0,>=4.5 in /usr/local/lib/python3.12/dist-packages (from aiohttp<4.0.0,>=3.9.1->instructor>=1.11.0->hands-on-ai) (6.6.4)\n",
            "Requirement already satisfied: propcache>=0.2.0 in /usr/local/lib/python3.12/dist-packages (from aiohttp<4.0.0,>=3.9.1->instructor>=1.11.0->hands-on-ai) (0.3.2)\n",
            "Requirement already satisfied: yarl<2.0,>=1.17.0 in /usr/local/lib/python3.12/dist-packages (from aiohttp<4.0.0,>=3.9.1->instructor>=1.11.0->hands-on-ai) (1.20.1)\n",
            "Requirement already satisfied: packaging in /usr/local/lib/python3.12/dist-packages (from fastcore>=1.8.1->python-fasthtml->hands-on-ai) (25.0)\n",
            "Requirement already satisfied: apswutils>=0.1.0 in /usr/local/lib/python3.12/dist-packages (from fastlite>=0.1.1->python-fasthtml->hands-on-ai) (0.1.0)\n",
            "Requirement already satisfied: MarkupSafe>=2.0 in /usr/local/lib/python3.12/dist-packages (from jinja2<4.0.0,>=3.1.4->instructor>=1.11.0->hands-on-ai) (3.0.2)\n",
            "Requirement already satisfied: anyio<5,>=3.5.0 in /usr/local/lib/python3.12/dist-packages (from openai<2.0.0,>=1.70.0->instructor>=1.11.0->hands-on-ai) (4.10.0)\n",
            "Requirement already satisfied: distro<2,>=1.7.0 in /usr/local/lib/python3.12/dist-packages (from openai<2.0.0,>=1.70.0->instructor>=1.11.0->hands-on-ai) (1.9.0)\n",
            "Requirement already satisfied: sniffio in /usr/local/lib/python3.12/dist-packages (from openai<2.0.0,>=1.70.0->instructor>=1.11.0->hands-on-ai) (1.3.1)\n",
            "Requirement already satisfied: tqdm>4 in /usr/local/lib/python3.12/dist-packages (from openai<2.0.0,>=1.70.0->instructor>=1.11.0->hands-on-ai) (4.67.1)\n",
            "Requirement already satisfied: httpcore==1.* in /usr/local/lib/python3.12/dist-packages (from httpx->python-fasthtml->hands-on-ai) (1.0.9)\n",
            "Requirement already satisfied: h11>=0.16 in /usr/local/lib/python3.12/dist-packages (from httpcore==1.*->httpx->python-fasthtml->hands-on-ai) (0.16.0)\n",
            "Requirement already satisfied: markdown-it-py>=2.2.0 in /usr/local/lib/python3.12/dist-packages (from rich<15.0.0,>=13.7.0->instructor>=1.11.0->hands-on-ai) (4.0.0)\n",
            "Requirement already satisfied: pygments<3.0.0,>=2.13.0 in /usr/local/lib/python3.12/dist-packages (from rich<15.0.0,>=13.7.0->instructor>=1.11.0->hands-on-ai) (2.19.2)\n",
            "Requirement already satisfied: httptools>=0.6.3 in /usr/local/lib/python3.12/dist-packages (from uvicorn[standard]>=0.30->python-fasthtml->hands-on-ai) (0.6.4)\n",
            "Requirement already satisfied: python-dotenv>=0.13 in /usr/local/lib/python3.12/dist-packages (from uvicorn[standard]>=0.30->python-fasthtml->hands-on-ai) (1.1.1)\n",
            "Requirement already satisfied: pyyaml>=5.1 in /usr/local/lib/python3.12/dist-packages (from uvicorn[standard]>=0.30->python-fasthtml->hands-on-ai) (6.0.2)\n",
            "Requirement already satisfied: uvloop>=0.15.1 in /usr/local/lib/python3.12/dist-packages (from uvicorn[standard]>=0.30->python-fasthtml->hands-on-ai) (0.21.0)\n",
            "Requirement already satisfied: watchfiles>=0.13 in /usr/local/lib/python3.12/dist-packages (from uvicorn[standard]>=0.30->python-fasthtml->hands-on-ai) (1.1.0)\n",
            "Requirement already satisfied: websockets>=10.4 in /usr/local/lib/python3.12/dist-packages (from uvicorn[standard]>=0.30->python-fasthtml->hands-on-ai) (15.0.1)\n",
            "Requirement already satisfied: soupsieve>1.2 in /usr/local/lib/python3.12/dist-packages (from beautifulsoup4->python-fasthtml->hands-on-ai) (2.8)\n",
            "Requirement already satisfied: six>=1.5 in /usr/local/lib/python3.12/dist-packages (from python-dateutil->python-fasthtml->hands-on-ai) (1.17.0)\n",
            "Requirement already satisfied: apsw in /usr/local/lib/python3.12/dist-packages (from apswutils>=0.1.0->fastlite>=0.1.1->python-fasthtml->hands-on-ai) (3.50.4.0)\n",
            "Requirement already satisfied: mdurl~=0.1 in /usr/local/lib/python3.12/dist-packages (from markdown-it-py>=2.2.0->rich<15.0.0,>=13.7.0->instructor>=1.11.0->hands-on-ai) (0.1.2)\n",
            "Requirement already satisfied: pyinputplus in /usr/local/lib/python3.12/dist-packages (0.2.12)\n",
            "Requirement already satisfied: pysimplevalidate>=0.2.7 in /usr/local/lib/python3.12/dist-packages (from pyinputplus) (0.2.12)\n",
            "Requirement already satisfied: stdiomask>=0.0.3 in /usr/local/lib/python3.12/dist-packages (from pyinputplus) (0.0.6)\n"
          ]
        }
      ],
      "source": [
        "# 🧪 Optional packages — uncomment if needed in Colab or JupyterHub\n",
        "!pip install fetch-my-weather\n",
        "!pip install hands-on-ai\n",
        "!pip install pyinputplus\n"
      ]
    },
    {
      "cell_type": "code",
      "source": [
        "import os\n",
        "\n",
        "os.environ['HANDS_ON_AI_SERVER'] = 'http://ollama.serveur.au'\n",
        "os.environ['HANDS_ON_AI_MODEL'] = 'granite3.2'\n",
        "os.environ['HANDS_ON_AI_API_KEY'] = input('Enter your API key: ')"
      ],
      "metadata": {
        "id": "B2JKlJfrGgIb",
        "colab": {
          "base_uri": "https://localhost:8080/",
          "height": 356
        },
        "outputId": "847a67db-5b43-4bf4-b719-bee5de0c5d64"
      },
      "id": "B2JKlJfrGgIb",
      "execution_count": 27,
      "outputs": [
        {
          "output_type": "error",
          "ename": "KeyboardInterrupt",
          "evalue": "Interrupted by user",
          "traceback": [
            "\u001b[0;31m---------------------------------------------------------------------------\u001b[0m",
            "\u001b[0;31mKeyboardInterrupt\u001b[0m                         Traceback (most recent call last)",
            "\u001b[0;32m/tmp/ipython-input-999226131.py\u001b[0m in \u001b[0;36m<cell line: 0>\u001b[0;34m()\u001b[0m\n\u001b[1;32m      3\u001b[0m \u001b[0mos\u001b[0m\u001b[0;34m.\u001b[0m\u001b[0menviron\u001b[0m\u001b[0;34m[\u001b[0m\u001b[0;34m'HANDS_ON_AI_SERVER'\u001b[0m\u001b[0;34m]\u001b[0m \u001b[0;34m=\u001b[0m \u001b[0;34m'http://ollama.serveur.au'\u001b[0m\u001b[0;34m\u001b[0m\u001b[0;34m\u001b[0m\u001b[0m\n\u001b[1;32m      4\u001b[0m \u001b[0mos\u001b[0m\u001b[0;34m.\u001b[0m\u001b[0menviron\u001b[0m\u001b[0;34m[\u001b[0m\u001b[0;34m'HANDS_ON_AI_MODEL'\u001b[0m\u001b[0;34m]\u001b[0m \u001b[0;34m=\u001b[0m \u001b[0;34m'granite3.2'\u001b[0m\u001b[0;34m\u001b[0m\u001b[0;34m\u001b[0m\u001b[0m\n\u001b[0;32m----> 5\u001b[0;31m \u001b[0mos\u001b[0m\u001b[0;34m.\u001b[0m\u001b[0menviron\u001b[0m\u001b[0;34m[\u001b[0m\u001b[0;34m'HANDS_ON_AI_API_KEY'\u001b[0m\u001b[0;34m]\u001b[0m \u001b[0;34m=\u001b[0m \u001b[0minput\u001b[0m\u001b[0;34m(\u001b[0m\u001b[0;34m'Enter your API key: '\u001b[0m\u001b[0;34m)\u001b[0m\u001b[0;34m\u001b[0m\u001b[0;34m\u001b[0m\u001b[0m\n\u001b[0m",
            "\u001b[0;32m/usr/local/lib/python3.12/dist-packages/ipykernel/kernelbase.py\u001b[0m in \u001b[0;36mraw_input\u001b[0;34m(self, prompt)\u001b[0m\n\u001b[1;32m   1175\u001b[0m                 \u001b[0;34m\"raw_input was called, but this frontend does not support input requests.\"\u001b[0m\u001b[0;34m\u001b[0m\u001b[0;34m\u001b[0m\u001b[0m\n\u001b[1;32m   1176\u001b[0m             )\n\u001b[0;32m-> 1177\u001b[0;31m         return self._input_request(\n\u001b[0m\u001b[1;32m   1178\u001b[0m             \u001b[0mstr\u001b[0m\u001b[0;34m(\u001b[0m\u001b[0mprompt\u001b[0m\u001b[0;34m)\u001b[0m\u001b[0;34m,\u001b[0m\u001b[0;34m\u001b[0m\u001b[0;34m\u001b[0m\u001b[0m\n\u001b[1;32m   1179\u001b[0m             \u001b[0mself\u001b[0m\u001b[0;34m.\u001b[0m\u001b[0m_parent_ident\u001b[0m\u001b[0;34m[\u001b[0m\u001b[0;34m\"shell\"\u001b[0m\u001b[0;34m]\u001b[0m\u001b[0;34m,\u001b[0m\u001b[0;34m\u001b[0m\u001b[0;34m\u001b[0m\u001b[0m\n",
            "\u001b[0;32m/usr/local/lib/python3.12/dist-packages/ipykernel/kernelbase.py\u001b[0m in \u001b[0;36m_input_request\u001b[0;34m(self, prompt, ident, parent, password)\u001b[0m\n\u001b[1;32m   1217\u001b[0m             \u001b[0;32mexcept\u001b[0m \u001b[0mKeyboardInterrupt\u001b[0m\u001b[0;34m:\u001b[0m\u001b[0;34m\u001b[0m\u001b[0;34m\u001b[0m\u001b[0m\n\u001b[1;32m   1218\u001b[0m                 \u001b[0;31m# re-raise KeyboardInterrupt, to truncate traceback\u001b[0m\u001b[0;34m\u001b[0m\u001b[0;34m\u001b[0m\u001b[0m\n\u001b[0;32m-> 1219\u001b[0;31m                 \u001b[0;32mraise\u001b[0m \u001b[0mKeyboardInterrupt\u001b[0m\u001b[0;34m(\u001b[0m\u001b[0;34m\"Interrupted by user\"\u001b[0m\u001b[0;34m)\u001b[0m \u001b[0;32mfrom\u001b[0m \u001b[0;32mNone\u001b[0m\u001b[0;34m\u001b[0m\u001b[0;34m\u001b[0m\u001b[0m\n\u001b[0m\u001b[1;32m   1220\u001b[0m             \u001b[0;32mexcept\u001b[0m \u001b[0mException\u001b[0m\u001b[0;34m:\u001b[0m\u001b[0;34m\u001b[0m\u001b[0;34m\u001b[0m\u001b[0m\n\u001b[1;32m   1221\u001b[0m                 \u001b[0mself\u001b[0m\u001b[0;34m.\u001b[0m\u001b[0mlog\u001b[0m\u001b[0;34m.\u001b[0m\u001b[0mwarning\u001b[0m\u001b[0;34m(\u001b[0m\u001b[0;34m\"Invalid Message:\"\u001b[0m\u001b[0;34m,\u001b[0m \u001b[0mexc_info\u001b[0m\u001b[0;34m=\u001b[0m\u001b[0;32mTrue\u001b[0m\u001b[0;34m)\u001b[0m\u001b[0;34m\u001b[0m\u001b[0;34m\u001b[0m\u001b[0m\n",
            "\u001b[0;31mKeyboardInterrupt\u001b[0m: Interrupted by user"
          ]
        }
      ]
    },
    {
      "cell_type": "markdown",
      "id": "59ae7543",
      "metadata": {
        "id": "59ae7543"
      },
      "source": [
        "## 📦 Setup and Configuration\n",
        "Import required packages and setup environment."
      ]
    },
    {
      "cell_type": "code",
      "execution_count": 48,
      "id": "f1dd051e",
      "metadata": {
        "id": "f1dd051e"
      },
      "outputs": [],
      "source": [
        "\n",
        "\n",
        "\n",
        "import os\n",
        "import requests\n",
        "import matplotlib.pyplot as plt\n",
        "import matplotlib.dates as mdates\n",
        "import pyinputplus as pyip\n",
        "from datetime import datetime, timedelta\n",
        "import json\n",
        "import re\n",
        "\n",
        "# Weather API\n",
        "try:\n",
        "    from fetch_my_weather import get_weather\n",
        "    WEATHER_AVAILABLE = True\n",
        "except ImportError:\n",
        "    WEATHER_AVAILABLE = False\n",
        "    print(\"fetch-my-weather not available, using mock data\")\n",
        "\n",
        "plt.style.use('seaborn-v0_8' if hasattr(plt.style, 'available') and 'seaborn-v0_8' in plt.style.available else 'default')\n",
        "plt.rcParams['figure.figsize'] = (10, 6)\n"
      ]
    },
    {
      "cell_type": "markdown",
      "id": "f736ade3",
      "metadata": {
        "id": "f736ade3"
      },
      "source": [
        "## 🌤️ Weather Data Functions"
      ]
    },
    {
      "cell_type": "code",
      "execution_count": 50,
      "id": "7a2c7cd0",
      "metadata": {
        "id": "7a2c7cd0"
      },
      "outputs": [],
      "source": [
        "def get_weather_data(location, forecast_days=5):\n",
        "    \"\"\"\n",
        "    Retrieve weather data for a specified location.\n",
        "    Handles both real API and mock fallback.\n",
        "    Returns a weather object or dict.\n",
        "    \"\"\"\n",
        "    try:\n",
        "        if WEATHER_AVAILABLE:\n",
        "            data = get_weather(location=location, format='json')\n",
        "            return data\n",
        "        else:\n",
        "            raise ValueError(\"Weather API not available\")\n",
        "    except Exception as e:\n",
        "        print(f\"Error retrieving weather for '{location}': {e}\")\n",
        "        return None\n"
      ]
    },
    {
      "cell_type": "markdown",
      "id": "8a744fdc",
      "metadata": {
        "id": "8a744fdc"
      },
      "source": [
        "## 📊 Visualisation Functions"
      ]
    },
    {
      "cell_type": "code",
      "execution_count": 49,
      "id": "9dc3bf85",
      "metadata": {
        "id": "9dc3bf85"
      },
      "outputs": [],
      "source": [
        "def create_temperature_visualisation(weather_data, output_type='display'):\n",
        "    \"\"\"\n",
        "    Plot temperature forecast for provided weather_data.\n",
        "    Handles both fetch-my-weather and mock object styles.\n",
        "    \"\"\"\n",
        "    try:\n",
        "        # Try to use .weather attribute (for fetch-my-weather)\n",
        "        if hasattr(weather_data, \"weather\"):\n",
        "            forecast = weather_data.weather\n",
        "            dates = [datetime.strptime(day.date, \"%Y-%m-%d\") for day in forecast]\n",
        "            temps = [float(day.avgtempC) for day in forecast]\n",
        "        elif \"forecast\" in weather_data:\n",
        "            forecast = weather_data[\"forecast\"]\n",
        "            dates = [datetime.fromisoformat(day[\"dt\"]) for day in forecast]\n",
        "            temps = [day[\"temperature\"] for day in forecast]\n",
        "        else:\n",
        "            print(\"No forecast data to visualize.\")\n",
        "            return\n",
        "\n",
        "        fig, ax = plt.subplots()\n",
        "        ax.plot(dates, temps, marker='o')\n",
        "        ax.set_title(\"Temperature Forecast\")\n",
        "        ax.set_xlabel(\"Date\")\n",
        "        ax.set_ylabel(\"Temperature (°C)\")\n",
        "        ax.xaxis.set_major_formatter(mdates.DateFormatter('%Y-%m-%d'))\n",
        "        ax.xaxis.set_major_locator(mdates.DayLocator())\n",
        "        plt.xticks(rotation=45)\n",
        "        plt.tight_layout()\n",
        "        if output_type == 'figure':\n",
        "            return fig\n",
        "        plt.show()\n",
        "\n",
        "    except Exception as e:\n",
        "        print(f\"Error in temperature visualisation: {e}\")"
      ]
    },
    {
      "cell_type": "code",
      "source": [
        "def create_precipitation_visualisation(weather_data, output_type='display'):\n",
        "    \"\"\"\n",
        "    Plot precipitation forecast for provided weather_data.\n",
        "    Handles both fetch-my-weather and mock object styles.\n",
        "    \"\"\"\n",
        "    try:\n",
        "        if hasattr(weather_data, \"weather\"):\n",
        "            forecast = weather_data.weather\n",
        "            dates = [datetime.strptime(day.date, \"%Y-%m-%d\") for day in forecast]\n",
        "            precips = [float(day.hourly[0].precipMM) for day in forecast]\n",
        "        elif \"forecast\" in weather_data:\n",
        "            forecast = weather_data[\"forecast\"]\n",
        "            dates = [datetime.fromisoformat(day[\"dt\"]) for day in forecast]\n",
        "            precips = [day[\"precipitation\"] for day in forecast]\n",
        "        else:\n",
        "            print(\"No forecast data to visualize.\")\n",
        "            return\n",
        "\n",
        "        fig, ax = plt.subplots()\n",
        "        ax.bar(dates, precips, color='blue')\n",
        "        ax.set_title(\"Precipitation Forecast\")\n",
        "        ax.set_xlabel(\"Date\")\n",
        "        ax.set_ylabel(\"Precipitation (mm)\")\n",
        "        ax.xaxis.set_major_formatter(mdates.DateFormatter('%Y-%m-%d'))\n",
        "        ax.xaxis.set_major_locator(mdates.DayLocator())\n",
        "        plt.xticks(rotation=45)\n",
        "        plt.tight_layout()\n",
        "        if output_type == 'figure':\n",
        "            return fig\n",
        "        plt.show()\n",
        "    except Exception as e:\n",
        "        print(f\"Error in precipitation visualisation: {e}\")"
      ],
      "metadata": {
        "id": "HpOlQylYG5Ho"
      },
      "id": "HpOlQylYG5Ho",
      "execution_count": 59,
      "outputs": []
    },
    {
      "cell_type": "markdown",
      "id": "9f95d160",
      "metadata": {
        "id": "9f95d160"
      },
      "source": [
        "## 🤖 Natural Language Processing"
      ]
    },
    {
      "cell_type": "code",
      "execution_count": 58,
      "id": "bcc5833e",
      "metadata": {
        "id": "bcc5833e"
      },
      "outputs": [],
      "source": [
        "def parse_weather_question(question):\n",
        "    \"\"\"\n",
        "    Parse user question for weather attributes.\n",
        "    Recognizes temperature, rain, conditions, humidity, wind.\n",
        "    \"\"\"\n",
        "    location = re.findall(r'in ([A-Za-z ]+)', question)\n",
        "    location = location[0].strip() if location else 'Perth'\n",
        "    time_period = 'today'\n",
        "    attribute = 'temperature'\n",
        "    if any(word in question.lower() for word in ['rain', 'precipitation']):\n",
        "        attribute = 'precipitation'\n",
        "    elif 'humidity' in question.lower():\n",
        "        attribute = 'humidity'\n",
        "    elif 'wind' in question.lower():\n",
        "        attribute = 'wind'\n",
        "    if 'tomorrow' in question.lower():\n",
        "        time_period = 'tomorrow'\n",
        "    elif 'weekend' in question.lower():\n",
        "        time_period = 'weekend'\n",
        "    elif any(day in question.lower() for day in ['monday','tuesday','wednesday','thursday','friday','saturday','sunday']):\n",
        "        time_period = next(day for day in ['monday','tuesday','wednesday','thursday','friday','saturday','sunday'] if day in question.lower())\n",
        "    return {\n",
        "        \"location\": location,\n",
        "        \"time_period\": time_period,\n",
        "        \"attribute\": attribute\n",
        "    }\n",
        "\n",
        "\n",
        "def generate_weather_response(parsed_question, weather_data):\n",
        "    \"\"\"\n",
        "    Generate a conversational weather response based on parsed_question.\n",
        "    \"\"\"\n",
        "    loc = parsed_question.get('location', 'location')\n",
        "    attr = parsed_question.get('attribute', 'temperature')\n",
        "    period = parsed_question.get('time_period', 'today')\n",
        "    try:\n",
        "        if hasattr(weather_data, \"weather\"):\n",
        "            forecast = weather_data.weather\n",
        "            idx = 1 if period == 'tomorrow' and len(forecast) > 1 else (5 if period == 'weekend' and len(forecast) > 5 else 0)\n",
        "            f = forecast[idx]\n",
        "            if attr == 'temperature':\n",
        "                return f\"Expected temperature in {loc} is {f.avgtempC}°C.\"\n",
        "            elif attr == 'precipitation':\n",
        "                return f\"Expected precipitation in {loc} is {f.hourly[0].precipMM}mm.\"\n",
        "            elif attr == 'humidity':\n",
        "                return f\"Expected humidity in {loc} is {f.hourly[0].humidity}%.\"\n",
        "            elif attr == 'wind':\n",
        "                return f\"Expected windspeed in {loc} is {f.hourly[0].windspeedKmph} km/h.\"\n",
        "            else:\n",
        "                return f\"Conditions in {loc}: {f.hourly[0].weatherDesc[0].value}.\"\n",
        "        elif hasattr(weather_data, \"currentcondition\"):\n",
        "            cc = weather_data.currentcondition[0]\n",
        "            if attr == 'temperature':\n",
        "                return f\"Current temperature in {loc} is {cc.temp_C}°C.\"\n",
        "            elif attr == 'precipitation':\n",
        "                return f\"Current precipitation in {loc} is {cc.precipMM}mm.\"\n",
        "            elif attr == 'humidity':\n",
        "                return f\"Current humidity in {loc} is {cc.humidity}%.\"\n",
        "            elif attr == 'wind':\n",
        "                return f\"Current windspeed in {loc} is {cc.windspeedKmph} km/h.\"\n",
        "            else:\n",
        "                return f\"Current weather in {loc}: {cc.weatherDesc[0].value}.\"\n",
        "        else:\n",
        "            return \"Sorry, weather data not available for this location.\"\n",
        "    except Exception as e:\n",
        "        return f\"Sorry, could not generate a response: {e}\"\n",
        "\n"
      ]
    },
    {
      "cell_type": "markdown",
      "id": "0d85225e",
      "metadata": {
        "id": "0d85225e"
      },
      "source": [
        "## 🧭 User Interface"
      ]
    },
    {
      "cell_type": "code",
      "execution_count": 69,
      "id": "fa6cb0f6",
      "metadata": {
        "id": "fa6cb0f6"
      },
      "outputs": [],
      "source": [
        "\n",
        "# def main_menu():\n",
        "#   \"\"\"\n",
        "#   Main menu logic for WeatherWise.\n",
        "#   All errors are handled gracefully to enhance UX.\n",
        "#   \"\"\"\n",
        "\n",
        "#   print(\"Welcome to WeatherWise!\")\n",
        "#   while True:\n",
        "#       try:\n",
        "#           choice = pyip.inputMenu([\"Weather Forecast\", \"Ask Question\", \"Exit\"], numbered=True)\n",
        "#           if choice == \"Weather Forecast\":\n",
        "#               handle_forecast_menu()\n",
        "#           elif choice == \"Ask Question\":\n",
        "#               handle_question_menu()\n",
        "#           else:\n",
        "#               print(\"Goodbye!\")\n",
        "#               break\n",
        "#       except Exception as e:\n",
        "#           print(f\"Unexpected error: {e}\")\n",
        "\n",
        "# def handle_forecast_menu():\n",
        "#   location = pyip.inputStr(\"Enter location: \")\n",
        "#   if not location:\n",
        "#       print(\"Location can't be empty.\")\n",
        "#       return\n",
        "#   data = get_weather_data(location)\n",
        "#   if data:\n",
        "#       create_temperature_visualisation(data)\n",
        "#       create_precipitation_visualisation(data)\n",
        "#   else:\n",
        "#       print(f\"Could not obtain weather data for {location}.\")\n",
        "\n",
        "# def handle_question_menu():\n",
        "#   q = pyip.inputStr(\"Ask a weather question: \")\n",
        "#   if not q:\n",
        "#       print(\"Please provide a question.\")\n",
        "#       return\n",
        "#   pq = parse_weather_question(q)\n",
        "#   data = get_weather_data(pq['location'])\n",
        "#   if data:\n",
        "#       resp = generate_weather_response(pq, data)\n",
        "#       print(resp)\n",
        "#   else:\n",
        "#       print(f\"Could not obtain weather data for {pq['location']}.\")\n",
        "\n",
        "def main_menu():\n",
        "    # Acceptable keywords for 'Example Questions' option (case insensitive)\n",
        "    example_keywords = ['example questions', 'example', 'examples', 'show examples', 'sample', 'test', 'q', '3']\n",
        "    print(\"=\"*40)\n",
        "    print(\"🌤️ Welcome to WeatherWise!\")\n",
        "    print(\"Type your question, pick a menu number, or type 'example' anytime to see sample questions.\")\n",
        "    print(\"=\"*40)\n",
        "\n",
        "    while True:\n",
        "        raw_choice = pyip.inputStr(\n",
        "            \"\\nMain Menu:\\n\"\n",
        "            \"- [1] Weather Forecast\\n\"\n",
        "            \"- [2] Ask Question\\n\"\n",
        "            \"- [3] Example Questions (type 'example')\\n\"\n",
        "            \"- [4] Exit\\n\"\n",
        "            \"Your choice: \"\n",
        "        ).strip().lower()\n",
        "\n",
        "        if raw_choice in ('1', 'weather forecast', 'forecast'):\n",
        "            location = pyip.inputStr(\"Enter city or location: \")\n",
        "            if not location.strip():\n",
        "                print(\"Please enter a city name.\")\n",
        "                continue\n",
        "            data = get_weather_data(location)\n",
        "            if data:\n",
        "                print(f\"\\nForecast for {location}:\")\n",
        "                create_temperature_visualisation(data)\n",
        "                create_precipitation_visualisation(data)\n",
        "            else:\n",
        "                print(\"Sorry—no weather data found for that location.\")\n",
        "        elif raw_choice in ('2', 'ask question', 'ask', 'question'):\n",
        "            q = pyip.inputStr(\"Type your weather question: \")\n",
        "            if not q.strip():\n",
        "                print(\"Please ask a question or choose an option.\")\n",
        "                continue\n",
        "            pq = parse_weather_question(q)\n",
        "            data = get_weather_data(pq['location'])\n",
        "            if data:\n",
        "                print(\"\\nHere's what I found:\")\n",
        "                resp = generate_weather_response(pq, data)\n",
        "                print(resp)\n",
        "            else:\n",
        "                print(\"Couldn’t retrieve weather for that question.\")\n",
        "        elif raw_choice in example_keywords:\n",
        "            print(\"\\nSome things you can ask:\")\n",
        "            print(\"- Will it rain in Darwin this weekend?\")\n",
        "            print(\"- Show me the temperature for Perth tomorrow.\")\n",
        "            print(\"- What's the forecast in Brisbane today?\")\n",
        "            print(\"- Is it windy in Melbourne right now?\")\n",
        "            print(\"- Will I need an umbrella in Hobart on Friday?\")\n",
        "        elif raw_choice in ('4', 'exit', 'quit', 'bye'):\n",
        "            print(\"\\nThank you for using WeatherWise. Stay safe!\")\n",
        "            break\n",
        "        else:\n",
        "            print(\"Not a valid option. Type 'example' to see what you can ask, or choose 1, 2, 3, or 4.\")\n",
        "\n"
      ]
    },
    {
      "cell_type": "markdown",
      "id": "d643a53c",
      "metadata": {
        "id": "d643a53c"
      },
      "source": [
        "## 🧩 Main Application Logic"
      ]
    },
    {
      "cell_type": "code",
      "execution_count": 70,
      "id": "a9e2e805",
      "metadata": {
        "id": "a9e2e805",
        "colab": {
          "base_uri": "https://localhost:8080/"
        },
        "outputId": "a09d8e02-d63c-4e03-9dc7-a8dadc73149b"
      },
      "outputs": [
        {
          "output_type": "stream",
          "name": "stdout",
          "text": [
            "========================================\n",
            "🌤️ Welcome to WeatherWise!\n",
            "Type your question, pick a menu number, or type 'example' anytime to see sample questions.\n",
            "========================================\n",
            "\n",
            "Main Menu:\n",
            "- [1] Weather Forecast\n",
            "- [2] Ask Question\n",
            "- [3] Example Questions (type 'example')\n",
            "- [4] Exit\n",
            "Your choice: 2\n",
            "Type your weather question: 3\n",
            "\n",
            "Here's what I found:\n",
            "Expected temperature in Perth is 16°C.\n",
            "\n",
            "Main Menu:\n",
            "- [1] Weather Forecast\n",
            "- [2] Ask Question\n",
            "- [3] Example Questions (type 'example')\n",
            "- [4] Exit\n",
            "Your choice: example\n",
            "\n",
            "Some things you can ask:\n",
            "- Will it rain in Darwin this weekend?\n",
            "- Show me the temperature for Perth tomorrow.\n",
            "- What's the forecast in Brisbane today?\n",
            "- Is it windy in Melbourne right now?\n",
            "- Will I need an umbrella in Hobart on Friday?\n",
            "\n",
            "Main Menu:\n",
            "- [1] Weather Forecast\n",
            "- [2] Ask Question\n",
            "- [3] Example Questions (type 'example')\n",
            "- [4] Exit\n",
            "Your choice: 2\n",
            "Type your weather question: what is weather like in sydney\n",
            "\n",
            "Here's what I found:\n",
            "Expected temperature in sydney is 17°C.\n",
            "\n",
            "Main Menu:\n",
            "- [1] Weather Forecast\n",
            "- [2] Ask Question\n",
            "- [3] Example Questions (type 'example')\n",
            "- [4] Exit\n",
            "Your choice: 4\n",
            "\n",
            "Thank you for using WeatherWise. Stay safe!\n"
          ]
        }
      ],
      "source": [
        "# Tie everything together here\n",
        "\n",
        "\n",
        "if __name__ == \"__main__\":\n",
        "    main_menu()"
      ]
    },
    {
      "cell_type": "markdown",
      "id": "fde44479",
      "metadata": {
        "id": "fde44479"
      },
      "source": [
        "## 🧪 Testing and Examples"
      ]
    },
    {
      "cell_type": "code",
      "execution_count": 41,
      "id": "4e573901",
      "metadata": {
        "id": "4e573901",
        "colab": {
          "base_uri": "https://localhost:8080/",
          "height": 1000
        },
        "outputId": "33943ac7-7580-45a0-abc8-8edce2632bc1"
      },
      "outputs": [
        {
          "output_type": "display_data",
          "data": {
            "text/plain": [
              "<Figure size 1000x600 with 1 Axes>"
            ],
            "image/png": "[encoded data removed]"
          },
          "metadata": {}
        },
        {
          "output_type": "display_data",
          "data": {
            "text/plain": [
              "<Figure size 1000x600 with 1 Axes>"
            ],
            "image/png": "[encoded data removed]"
          },
          "metadata": {}
        },
        {
          "output_type": "stream",
          "name": "stdout",
          "text": [
            "Expected precipitation in tomorrow in Paris is 0.0mm.\n"
          ]
        }
      ],
      "source": [
        "# Include sample input/output for each function\n",
        "\n",
        "# Sample test\n",
        "sample = get_weather_data('Melbourne')\n",
        "create_temperature_visualisation(sample)\n",
        "create_precipitation_visualisation(sample)\n",
        "pq = parse_weather_question(\"Will it rain tomorrow in Paris?\")\n",
        "pdata = get_weather_data(pq['location'])\n",
        "print(generate_weather_response(pq, pdata))\n"
      ]
    },
    {
      "cell_type": "markdown",
      "id": "d2885880",
      "metadata": {
        "id": "d2885880"
      },
      "source": [
        "## 🗂️ AI Prompting Log (Optional)\n",
        "Add markdown cells here summarising prompts used or link to AI conversations in the `ai-conversations/` folder."
      ]
    }
  ],
  "metadata": {
    "language_info": {
      "name": "python"
    },
    "colab": {
      "provenance": [],
      "include_colab_link": true
    },
    "kernelspec": {
      "name": "python3",
      "display_name": "Python 3"
    }
  },
  "nbformat": 4,
  "nbformat_minor": 5
}